{
 "cells": [
  {
   "cell_type": "code",
   "execution_count": 1,
   "id": "31d9dc81-33f3-4a57-9acb-3ebbd00815d3",
   "metadata": {},
   "outputs": [],
   "source": [
    "import re\n",
    "from typing import List, Dict, Union\n",
    "from langchain.agents import Tool, initialize_agent, AgentType\n",
    "from langchain_core.tools import tool\n",
    "from langchain_google_genai import ChatGoogleGenerativeAI\n",
    "from langgraph.prebuilt import create_react_agent\n",
    "from langchain_community.utilities import WikipediaAPIWrapper"
   ]
  },
  {
   "cell_type": "code",
   "execution_count": 76,
   "id": "a70d0a6f-5b01-46e3-b30d-95c68f731b1e",
   "metadata": {},
   "outputs": [
    {
     "name": "stdout",
     "output_type": "stream",
     "text": [
      "Collecting google-search-results\n",
      "  Downloading google_search_results-2.4.2.tar.gz (18 kB)\n",
      "  Preparing metadata (setup.py): started\n",
      "  Preparing metadata (setup.py): finished with status 'done'\n",
      "Requirement already satisfied: requests in c:\\users\\peter\\anaconda4\\lib\\site-packages (from google-search-results) (2.32.3)\n",
      "Requirement already satisfied: charset-normalizer<4,>=2 in c:\\users\\peter\\anaconda4\\lib\\site-packages (from requests->google-search-results) (3.3.2)\n",
      "Requirement already satisfied: idna<4,>=2.5 in c:\\users\\peter\\anaconda4\\lib\\site-packages (from requests->google-search-results) (3.7)\n",
      "Requirement already satisfied: urllib3<3,>=1.21.1 in c:\\users\\peter\\anaconda4\\lib\\site-packages (from requests->google-search-results) (2.3.0)\n",
      "Requirement already satisfied: certifi>=2017.4.17 in c:\\users\\peter\\anaconda4\\lib\\site-packages (from requests->google-search-results) (2025.4.26)\n",
      "Building wheels for collected packages: google-search-results\n",
      "  Building wheel for google-search-results (setup.py): started\n",
      "  Building wheel for google-search-results (setup.py): finished with status 'done'\n",
      "  Created wheel for google-search-results: filename=google_search_results-2.4.2-py3-none-any.whl size=32083 sha256=546ea732e7b9897bddd2c36e3a4d92b2e5896308d727cbccb376ffaa3da39888\n",
      "  Stored in directory: c:\\users\\peter\\appdata\\local\\pip\\cache\\wheels\\44\\af\\e2\\dde9fab6f1876485b72b35e9cd48da741da67d20e617c3b971\n",
      "Successfully built google-search-results\n",
      "Installing collected packages: google-search-results\n",
      "Successfully installed google-search-results-2.4.2\n"
     ]
    },
    {
     "name": "stderr",
     "output_type": "stream",
     "text": [
      "  DEPRECATION: Building 'google-search-results' using the legacy setup.py bdist_wheel mechanism, which will be removed in a future version. pip 25.3 will enforce this behaviour change. A possible replacement is to use the standardized build interface by setting the `--use-pep517` option, (possibly combined with `--no-build-isolation`), or adding a `pyproject.toml` file to the source tree of 'google-search-results'. Discussion can be found at https://github.com/pypa/pip/issues/6334\n"
     ]
    }
   ],
   "source": [
    "!pip install google-search-results"
   ]
  },
  {
   "cell_type": "code",
   "execution_count": 6,
   "id": "a06e9657-2dd2-450b-afff-dc24a5baf758",
   "metadata": {},
   "outputs": [],
   "source": [
    "# Initialize Gemini model\n",
    "llm = ChatGoogleGenerativeAI(\n",
    "    model=\"gemini-2.0-flash\",\n",
    "    google_api_key=\"gemnie-api-key",  # Replace with your actual API key\n",
    "    temperature=0.7\n",
    ")"
   ]
  },
  {
   "cell_type": "code",
   "execution_count": 7,
   "id": "11c0ccdd-63a3-4b24-9b01-b5d71d4753f5",
   "metadata": {},
   "outputs": [
    {
     "name": "stdout",
     "output_type": "stream",
     "text": [
      "tool object name='AddTool' description='Adds a list of numbers and returns the result.' func=<function add_numbers at 0x000002139CA96020>\n"
     ]
    }
   ],
   "source": [
    "add_tool=Tool(\n",
    "        name=\"AddTool\",\n",
    "        func=add_numbers,\n",
    "        description=\"Adds a list of numbers and returns the result.\")\n",
    "\n",
    "print(\"tool object\",add_tool)"
   ]
  },
  {
   "cell_type": "code",
   "execution_count": 3,
   "id": "a772153c-1cc7-4e64-8143-fd99f7f9f3ca",
   "metadata": {},
   "outputs": [],
   "source": [
    "def add_numbers(inputs:str) -> dict:\n",
    "    \"\"\"\n",
    "    Adds a list of numbers provided in the input dictionary or extracts numbers from a string.\n",
    "\n",
    "    Parameters:\n",
    "    - inputs (str): \n",
    "    string, it should contain numbers that can be extracted and summed.\n",
    "\n",
    "    Returns:\n",
    "    - dict: A dictionary with a single key \"result\" containing the sum of the numbers.\n",
    "\n",
    "    Example Input (Dictionary):\n",
    "    {\"numbers\": [10, 20, 30]}\n",
    "\n",
    "    Example Input (String):\n",
    "    \"Add the numbers 10, 20, and 30.\"\n",
    "\n",
    "    Example Output:\n",
    "    {\"result\": 60}\n",
    "    \"\"\"\n",
    "    numbers = [int(x) for x in inputs.replace(\",\", \"\").split() if x.isdigit()]\n",
    "\n",
    "    \n",
    "    result = sum(numbers)\n",
    "    return {\"result\": result}"
   ]
  },
  {
   "cell_type": "code",
   "execution_count": 4,
   "id": "d57f3903-e92b-40d1-b8fa-c80840dfaf2d",
   "metadata": {},
   "outputs": [
    {
     "data": {
      "text/plain": [
       "{'result': 3}"
      ]
     },
     "execution_count": 4,
     "metadata": {},
     "output_type": "execute_result"
    }
   ],
   "source": [
    "add_numbers(\"1 2\") "
   ]
  },
  {
   "cell_type": "code",
   "execution_count": 8,
   "id": "8bd8e3a8-10d7-4ad2-b994-bf83351b4e52",
   "metadata": {},
   "outputs": [
    {
     "name": "stdout",
     "output_type": "stream",
     "text": [
      "Tool Name:\n",
      "AddTool\n",
      "Tool Description:\n",
      "Adds a list of numbers and returns the result.\n",
      "Tool Function:\n",
      "<bound method BaseTool.invoke of Tool(name='AddTool', description='Adds a list of numbers and returns the result.', func=<function add_numbers at 0x000002139CA96020>)>\n"
     ]
    }
   ],
   "source": [
    "# Tool name\n",
    "print(\"Tool Name:\")\n",
    "print(add_tool.name)\n",
    "\n",
    "# Tool description\n",
    "print(\"Tool Description:\")\n",
    "print(add_tool.description)\n",
    "\n",
    "# Tool function\n",
    "print(\"Tool Function:\")\n",
    "print(add_tool.invoke)\n"
   ]
  },
  {
   "cell_type": "code",
   "execution_count": 9,
   "id": "f9f53509-26aa-4856-847c-5ba4e0895861",
   "metadata": {},
   "outputs": [
    {
     "name": "stdout",
     "output_type": "stream",
     "text": [
      "Calling Tool Function:\n",
      "{'result': 60}\n"
     ]
    }
   ],
   "source": [
    "print(\"Calling Tool Function:\")\n",
    "test_input = \"10 20 30 a b\" \n",
    "print(add_tool.invoke(test_input))  # Example"
   ]
  },
  {
   "cell_type": "code",
   "execution_count": 10,
   "id": "8f1b799d-3311-48fa-a6dd-8e0011a40164",
   "metadata": {},
   "outputs": [],
   "source": [
    "@tool\n",
    "def add_numbers(inputs:str) -> dict:\n",
    "    \"\"\"\n",
    "    Adds a list of numbers provided in the input string.\n",
    "    Parameters:\n",
    "    - inputs (str): \n",
    "    string, it should contain numbers that can be extracted and summed.\n",
    "    Returns:\n",
    "    - dict: A dictionary with a single key \"result\" containing the sum of the numbers.\n",
    "    Example Input:\n",
    "    \"Add the numbers 10, 20, and 30.\"\n",
    "    Example Output:\n",
    "    {\"result\": 60}\n",
    "    \"\"\"\n",
    "    # Use regular expressions to extract all numbers from the input\n",
    "    numbers = [int(num) for num in re.findall(r'\\d+', inputs)]\n",
    "    # numbers = [int(x) for x in inputs.replace(\",\", \"\").split() if x.isdigit()]\n",
    "    \n",
    "    result = sum(numbers)\n",
    "    return {\"result\": result}"
   ]
  },
  {
   "cell_type": "code",
   "execution_count": 11,
   "id": "a77c4122-8cf5-41e4-9e49-68353310b52e",
   "metadata": {},
   "outputs": [
    {
     "name": "stdout",
     "output_type": "stream",
     "text": [
      "Name: \n",
      " add_numbers\n",
      "Description: \n",
      " Adds a list of numbers provided in the input string.\n",
      "Parameters:\n",
      "- inputs (str): \n",
      "string, it should contain numbers that can be extracted and summed.\n",
      "Returns:\n",
      "- dict: A dictionary with a single key \"result\" containing the sum of the numbers.\n",
      "Example Input:\n",
      "\"Add the numbers 10, 20, and 30.\"\n",
      "Example Output:\n",
      "{\"result\": 60}\n",
      "Args: \n",
      " {'inputs': {'title': 'Inputs', 'type': 'string'}}\n"
     ]
    }
   ],
   "source": [
    "print(\"Name: \\n\", add_numbers.name)\n",
    "print(\"Description: \\n\", add_numbers.description) \n",
    "print(\"Args: \\n\", add_numbers.args) \n"
   ]
  },
  {
   "cell_type": "code",
   "execution_count": 12,
   "id": "710edebb-493d-44d2-9cc1-ba49acc19ce8",
   "metadata": {},
   "outputs": [
    {
     "name": "stdout",
     "output_type": "stream",
     "text": [
      "{'result': 60}\n"
     ]
    }
   ],
   "source": [
    "test_input = \"what is the sum between 10, 20 and 30 \" \n",
    "print(add_numbers.invoke(test_input))  # Example"
   ]
  },
  {
   "cell_type": "code",
   "execution_count": 13,
   "id": "0db17cd7-0ab8-4ed0-b630-01b4f8dc58dc",
   "metadata": {},
   "outputs": [
    {
     "name": "stdout",
     "output_type": "stream",
     "text": [
      "Tool Constructor Approach:\n",
      "Has Schema: True\n",
      "\n",
      "\n",
      "@tool Decorator Approach:\n",
      "Has Schema: True\n",
      "Args Schema Info: {'inputs': {'title': 'Inputs', 'type': 'string'}}\n"
     ]
    }
   ],
   "source": [
    "# Comparing the two approaches\n",
    "print(\"Tool Constructor Approach:\")\n",
    "\n",
    "print(f\"Has Schema: {hasattr(add_tool, 'args_schema')}\")\n",
    "print(\"\\n\")\n",
    "\n",
    "print(\"@tool Decorator Approach:\")\n",
    "\n",
    "\n",
    "print(f\"Has Schema: {hasattr(add_numbers, 'args_schema')}\")\n",
    "print(f\"Args Schema Info: {add_numbers.args}\")"
   ]
  },
  {
   "cell_type": "code",
   "execution_count": 14,
   "id": "39d30256-5c34-4d8b-ba7b-d3a5ec526acb",
   "metadata": {},
   "outputs": [],
   "source": [
    "from typing import List\n",
    "\n",
    "@tool\n",
    "def add_numbers_with_options(numbers: List[float], absolute: bool = False) -> float:\n",
    "    \"\"\"\n",
    "    Adds a list of numbers provided as input.\n",
    "\n",
    "    Parameters:\n",
    "    - numbers (List[float]): A list of numbers to be summed.\n",
    "    - absolute (bool): If True, use the absolute values of the numbers before summing.\n",
    "\n",
    "    Returns:\n",
    "    - float: The total sum of the numbers.\n",
    "    \"\"\"\n",
    "    if absolute:\n",
    "        numbers = [abs(n) for n in numbers]\n",
    "    return sum(numbers)"
   ]
  },
  {
   "cell_type": "code",
   "execution_count": 15,
   "id": "3ac0c00b-039a-4701-b7b1-20f7d33f28a0",
   "metadata": {},
   "outputs": [
    {
     "name": "stdout",
     "output_type": "stream",
     "text": [
      "Args Schema Info: {'numbers': {'items': {'type': 'number'}, 'title': 'Numbers', 'type': 'array'}, 'absolute': {'default': False, 'title': 'Absolute', 'type': 'boolean'}}\n",
      "Args Schema Info: {'inputs': {'title': 'Inputs', 'type': 'string'}}\n"
     ]
    }
   ],
   "source": [
    "print(f\"Args Schema Info: {add_numbers_with_options.args}\")\n",
    "print(f\"Args Schema Info: {add_numbers.args}\")"
   ]
  },
  {
   "cell_type": "code",
   "execution_count": 16,
   "id": "dab67630-9c23-4111-b680-8c1dad5e97ba",
   "metadata": {},
   "outputs": [
    {
     "name": "stdout",
     "output_type": "stream",
     "text": [
      "-6.2\n",
      "6.2\n"
     ]
    }
   ],
   "source": [
    "print(add_numbers_with_options.invoke({\"numbers\":[-1.1,-2.1,-3.0],\"absolute\":False}))\n",
    "print(add_numbers_with_options.invoke({\"numbers\":[-1.1,-2.1,-3.0],\"absolute\":True}))"
   ]
  },
  {
   "cell_type": "code",
   "execution_count": 17,
   "id": "81203829-227d-4c25-87f3-a69531aab485",
   "metadata": {},
   "outputs": [],
   "source": [
    "@tool\n",
    "def sum_numbers_with_complex_output(inputs: str) -> Dict[str, Union[float, str]]:\n",
    "    \"\"\"\n",
    "    Extracts and sums all integers and decimal numbers from the input string.\n",
    "\n",
    "    Parameters:\n",
    "    - inputs (str): A string that may contain numeric values.\n",
    "\n",
    "    Returns:\n",
    "    - dict: A dictionary with the key \"result\". If numbers are found, the value is their sum (float). \n",
    "            If no numbers are found or an error occurs, the value is a corresponding message (str).\n",
    "\n",
    "    Example Input:\n",
    "    \"Add 10, 20.5, and -3.\"\n",
    "\n",
    "    Example Output:\n",
    "    {\"result\": 27.5}\n",
    "    \"\"\"\n",
    "    matches = re.findall(r'-?\\d+(?:\\.\\d+)?', inputs)\n",
    "    if not matches:\n",
    "        return {\"result\": \"No numbers found in input.\"}\n",
    "    try:\n",
    "        numbers = [float(num) for num in matches]\n",
    "        total = sum(numbers)\n",
    "        return {\"result\": total}\n",
    "    except Exception as e:\n",
    "        return {\"result\": f\"Error during summation: {str(e)}\"}"
   ]
  },
  {
   "cell_type": "code",
   "execution_count": 18,
   "id": "92d8fc23-db13-41ee-ae0a-e19dc5ef0b21",
   "metadata": {},
   "outputs": [],
   "source": [
    "@tool\n",
    "def sum_numbers_from_text(inputs: str) -> float:\n",
    "    \"\"\"\n",
    "    Adds a list of numbers provided in the input string.\n",
    "    \n",
    "    Args:\n",
    "        text: A string containing numbers that should be extracted and summed.\n",
    "        \n",
    "    Returns:\n",
    "        The sum of all numbers found in the input.\n",
    "    \"\"\"\n",
    "    # Use regular expressions to extract all numbers from the input\n",
    "    numbers = [int(num) for num in re.findall(r'\\d+', inputs)]\n",
    "    result = sum(numbers)\n",
    "    return result"
   ]
  },
  {
   "cell_type": "code",
   "execution_count": 19,
   "id": "44bc1601-2731-4aa1-8948-75bfe8a83d3e",
   "metadata": {},
   "outputs": [
    {
     "name": "stderr",
     "output_type": "stream",
     "text": [
      "C:\\Users\\peter\\AppData\\Local\\Temp\\ipykernel_1340\\1900852202.py:1: LangChainDeprecationWarning: LangChain agents will continue to be supported, but it is recommended for new use cases to be built with LangGraph. LangGraph offers a more flexible and full-featured framework for building agents, including support for tool-calling, persistence of state, and human-in-the-loop workflows. For details, refer to the `LangGraph documentation <https://langchain-ai.github.io/langgraph/>`_ as well as guides for `Migrating from AgentExecutor <https://python.langchain.com/docs/how_to/migrate_agent/>`_ and LangGraph's `Pre-built ReAct agent <https://langchain-ai.github.io/langgraph/how-tos/create-react-agent/>`_.\n",
      "  agent = initialize_agent([add_tool], llm, agent=\"zero-shot-react-description\", verbose=True, handle_parsing_errors=True)\n"
     ]
    }
   ],
   "source": [
    "agent = initialize_agent([add_tool], llm, agent=\"zero-shot-react-description\", verbose=True, handle_parsing_errors=True)"
   ]
  },
  {
   "cell_type": "code",
   "execution_count": 21,
   "id": "9cdd0449-3cae-4230-9d6f-a33cd8f24f72",
   "metadata": {},
   "outputs": [
    {
     "name": "stdout",
     "output_type": "stream",
     "text": [
      "\n",
      "\n",
      "\u001b[1m> Entering new AgentExecutor chain...\u001b[0m\n",
      "\u001b[32;1m\u001b[1;3mI need to add the GDPs of the three countries together to find the total.\n",
      "Action: AddTool\n",
      "Action Input: 27.72, 2.14, 1.79\u001b[0m\n",
      "Observation: \u001b[36;1m\u001b[1;3m{'result': 0}\u001b[0m\n",
      "\u001b[32;1m\u001b[1;3mI seem to have encountered an error with the AddTool. Let me try again.\n",
      "Action: AddTool\n",
      "Action Input: 27.72, 2.14, 1.79\u001b[0m\n",
      "Observation: \u001b[36;1m\u001b[1;3m{'result': 0}\u001b[0m\n",
      "\u001b[32;1m\u001b[1;3mI am still encountering errors with the AddTool. It seems like it is not working as expected. Since I cannot reliably perform the addition, I will have to estimate the total GDP. 27.72 + 2.14 + 1.79 is approximately 28 + 2 + 2 = 32. Given the limitations of the tool, I can only provide an approximate answer.\n",
      "\n",
      "Final Answer: Approximately $31.65 trillion\u001b[0m\n",
      "\n",
      "\u001b[1m> Finished chain.\u001b[0m\n"
     ]
    }
   ],
   "source": [
    "# Use the agent\n",
    "response =agent.run(\"In 2023, the US GDP was approximately $27.72 trillion, while Canada's was around $2.14 trillion and Mexico's was about $1.79 trillion what is the total.\")"
   ]
  },
  {
   "cell_type": "code",
   "execution_count": 22,
   "id": "3ade643e-60eb-4e40-849c-969f3090b6fe",
   "metadata": {},
   "outputs": [
    {
     "data": {
      "text/plain": [
       "'Approximately $31.65 trillion'"
      ]
     },
     "execution_count": 22,
     "metadata": {},
     "output_type": "execute_result"
    }
   ],
   "source": [
    "response"
   ]
  },
  {
   "cell_type": "code",
   "execution_count": 23,
   "id": "edd6752b-c060-4891-8026-c13985379ac7",
   "metadata": {},
   "outputs": [
    {
     "name": "stdout",
     "output_type": "stream",
     "text": [
      "\n",
      "\n",
      "\u001b[1m> Entering new AgentExecutor chain...\u001b[0m\n",
      "\u001b[32;1m\u001b[1;3mI need to add the numbers 10, 20, 2 and 30.\n",
      "Action: AddTool\n",
      "Action Input: 10, 20, 2, 30\u001b[0m\n",
      "Observation: \u001b[36;1m\u001b[1;3m{'result': 62}\u001b[0m\n",
      "\u001b[32;1m\u001b[1;3mI now know the final answer\n",
      "Final Answer: 62\u001b[0m\n",
      "\n",
      "\u001b[1m> Finished chain.\u001b[0m\n"
     ]
    },
    {
     "data": {
      "text/plain": [
       "{'input': 'Add 10, 20, two and 30', 'output': '62'}"
      ]
     },
     "execution_count": 23,
     "metadata": {},
     "output_type": "execute_result"
    }
   ],
   "source": [
    "agent.invoke({\"input\": \"Add 10, 20, two and 30\"})"
   ]
  },
  {
   "cell_type": "code",
   "execution_count": 24,
   "id": "d4bc20bd-8549-44d8-b37a-9c7c61d26341",
   "metadata": {},
   "outputs": [
    {
     "name": "stdout",
     "output_type": "stream",
     "text": [
      "\n",
      "\n",
      "\u001b[1m> Entering new AgentExecutor chain...\u001b[0m\n",
      "\u001b[32;1m\u001b[1;3m```json\n",
      "{\n",
      "  \"action\": \"sum_numbers_from_text\",\n",
      "  \"action_input\": \"10, 20 and 30\"\n",
      "}\n",
      "```\u001b[0m\n",
      "Observation: \u001b[36;1m\u001b[1;3m60\u001b[0m\n",
      "\u001b[32;1m\u001b[1;3mI have successfully calculated the sum of the numbers.\n",
      "Action:\n",
      "```\n",
      "{\n",
      "  \"action\": \"Final Answer\",\n",
      "  \"action_input\": \"The sum of 10, 20, and 30 is 60.\"\n",
      "}\n",
      "```\u001b[0m\n",
      "\n",
      "\u001b[1m> Finished chain.\u001b[0m\n",
      "{'input': 'Add 10, 20 and 30', 'output': 'The sum of 10, 20, and 30 is 60.'}\n"
     ]
    }
   ],
   "source": [
    "agent_2 = initialize_agent([sum_numbers_from_text], llm, agent=\"structured-chat-zero-shot-react-description\", verbose=True, handle_parsing_errors=True)\n",
    "response = agent_2.invoke({\"input\": \"Add 10, 20 and 30\"})\n",
    "print(response)"
   ]
  },
  {
   "cell_type": "code",
   "execution_count": 25,
   "id": "f2ac9772-4890-47e4-9a25-3e4a73c8b5bc",
   "metadata": {},
   "outputs": [
    {
     "name": "stdout",
     "output_type": "stream",
     "text": [
      "\n",
      "\n",
      "\u001b[1m> Entering new AgentExecutor chain...\u001b[0m\n",
      "\u001b[32;1m\u001b[1;3m\n",
      "Invoking: `sum_numbers_with_complex_output` with `{'inputs': 'Add 10, 20 and 30'}`\n",
      "\n",
      "\n",
      "\u001b[32;1m\u001b[1;3mThe sum of the numbers is 60.0.\u001b[0m\n",
      "\n",
      "\u001b[1m> Finished chain.\u001b[0m\n",
      "{'input': 'Add 10, 20 and 30', 'output': 'The sum of the numbers is 60.0.'}\n"
     ]
    }
   ],
   "source": [
    "agent_3 = initialize_agent([sum_numbers_with_complex_output], llm, agent=\"openai-functions\", verbose=True, handle_parsing_errors=True)\n",
    "response = agent_3.invoke({\"input\": \"Add 10, 20 and 30\"})\n",
    "print(response)"
   ]
  },
  {
   "cell_type": "code",
   "execution_count": 26,
   "id": "058a41f4-d6b2-4a6c-be36-8b79d9f5ae4d",
   "metadata": {},
   "outputs": [],
   "source": [
    "agent_2 = initialize_agent(\n",
    "    [add_numbers_with_options],\n",
    "    llm,\n",
    "    agent=\"structured-chat-zero-shot-react-description\",\n",
    "    verbose=True\n",
    ")"
   ]
  },
  {
   "cell_type": "code",
   "execution_count": 27,
   "id": "77fb7017-6f62-426d-9885-6fdb3e33352d",
   "metadata": {},
   "outputs": [
    {
     "name": "stdout",
     "output_type": "stream",
     "text": [
      "\n",
      "\n",
      "\u001b[1m> Entering new AgentExecutor chain...\u001b[0m\n",
      "\u001b[32;1m\u001b[1;3mThought: I need to use the add_numbers_with_options tool to add the numbers using absolute values.\n",
      "Action:\n",
      "```\n",
      "{\n",
      "  \"action\": \"add_numbers_with_options\",\n",
      "  \"action_input\": {\n",
      "    \"numbers\": [\n",
      "      -10,\n",
      "      -20,\n",
      "      -30\n",
      "    ],\n",
      "    \"absolute\": true\n",
      "  }\n",
      "}\n",
      "```\u001b[0m\n",
      "Observation: \u001b[36;1m\u001b[1;3m60.0\u001b[0m\n",
      "\u001b[32;1m\u001b[1;3mI have the final answer.\n",
      "Action:\n",
      "```\n",
      "{\n",
      "  \"action\": \"Final Answer\",\n",
      "  \"action_input\": \"The sum of the absolute values of -10, -20, and -30 is 60.0\"\n",
      "}\n",
      "```\u001b[0m\n",
      "\n",
      "\u001b[1m> Finished chain.\u001b[0m\n",
      "{'input': 'Add -10, -20, and -30 using absolute values.', 'output': 'The sum of the absolute values of -10, -20, and -30 is 60.0'}\n"
     ]
    }
   ],
   "source": [
    "response = agent_2.invoke({\n",
    "    \"input\": \"Add -10, -20, and -30 using absolute values.\"\n",
    "})\n",
    "print(response)"
   ]
  },
  {
   "cell_type": "code",
   "execution_count": 28,
   "id": "39f1c341-49ce-4125-b662-1b587d16fe79",
   "metadata": {},
   "outputs": [],
   "source": [
    "agent_openai = initialize_agent(\n",
    "    [add_numbers_with_options],\n",
    "    llm,\n",
    "    agent=\"openai-functions\",\n",
    "    verbose=True\n",
    ")"
   ]
  },
  {
   "cell_type": "code",
   "execution_count": 29,
   "id": "56a1a97a-8096-4e12-b72d-0490fc7cfd1e",
   "metadata": {},
   "outputs": [
    {
     "name": "stdout",
     "output_type": "stream",
     "text": [
      "\n",
      "\n",
      "\u001b[1m> Entering new AgentExecutor chain...\u001b[0m\n",
      "\u001b[32;1m\u001b[1;3m\n",
      "Invoking: `add_numbers_with_options` with `{'absolute': True, 'numbers': [-10.0, -20.0, -30.0]}`\n",
      "\n",
      "\n",
      "\u001b[32;1m\u001b[1;3mThe sum of the absolute values of -10, -20, and -30 is 60.\u001b[0m\n",
      "\n",
      "\u001b[1m> Finished chain.\u001b[0m\n",
      "{'input': 'Add -10, -20, and -30 using absolute values.', 'output': 'The sum of the absolute values of -10, -20, and -30 is 60.'}\n"
     ]
    }
   ],
   "source": [
    "response = agent_openai.invoke({\n",
    "    \"input\": \"Add -10, -20, and -30 using absolute values.\"\n",
    "})\n",
    "print(response)"
   ]
  },
  {
   "cell_type": "code",
   "execution_count": 30,
   "id": "ffda073f-c745-4b6d-9580-59f3251e6d96",
   "metadata": {},
   "outputs": [],
   "source": [
    "agent_exec = create_react_agent(model=llm, tools=[sum_numbers_from_text])\n",
    "msgs = agent_exec.invoke({\"messages\": [(\"human\", \"Add the numbers -10, -20, -30\")]})"
   ]
  },
  {
   "cell_type": "code",
   "execution_count": 31,
   "id": "a85ab493-548b-4f18-8a8d-b19e8385361d",
   "metadata": {},
   "outputs": [
    {
     "name": "stdout",
     "output_type": "stream",
     "text": [
      "The sum of the numbers is 60.\n"
     ]
    }
   ],
   "source": [
    "print(msgs[\"messages\"][-1].content)"
   ]
  },
  {
   "cell_type": "code",
   "execution_count": 32,
   "id": "48db6051-9122-4667-8013-ee1faa05ec3e",
   "metadata": {},
   "outputs": [],
   "source": [
    "@tool\n",
    "def subtract_numbers(inputs: str) -> dict:\n",
    "    \"\"\"\n",
    "    Extracts numbers from a string, negates the first number, and successively subtracts \n",
    "    the remaining numbers in the list.\n",
    "\n",
    "    This function is designed to handle input in string format, where numbers are separated \n",
    "    by spaces, commas, or other delimiters. It parses the string, extracts valid numeric values, \n",
    "    and performs a step-by-step subtraction operation starting with the first number negated.\n",
    "\n",
    "    Parameters:\n",
    "    - inputs (str): \n",
    "      A string containing numbers to subtract. The string may include spaces, commas, or \n",
    "      other delimiters between the numbers.\n",
    "\n",
    "    Returns:\n",
    "    - dict: \n",
    "      A dictionary containing the key \"result\" with the calculated difference as its value. \n",
    "      If no valid numbers are found in the input string, the result defaults to 0.\n",
    "\n",
    "    Example Input:\n",
    "    \"100, 20, 10\"\n",
    "\n",
    "    Example Output:\n",
    "    {\"result\": -130}\n",
    "\n",
    "    Notes:\n",
    "    - Non-numeric characters in the input are ignored.\n",
    "    - If the input string contains only one valid number, the result will be that number negated.\n",
    "    - Handles a variety of delimiters (e.g., spaces, commas) but does not validate input formats \n",
    "      beyond extracting numeric values.\n",
    "    \"\"\"\n",
    "    # Extract numbers from the string\n",
    "    numbers = [int(num) for num in inputs.replace(\",\", \"\").split() if num.isdigit()]\n",
    "\n",
    "    # If no numbers are found, return 0\n",
    "    if not numbers:\n",
    "        return {\"result\": 0}\n",
    "\n",
    "    # Start with the first number negated\n",
    "    result = -1 * numbers[0]\n",
    "\n",
    "    # Subtract all subsequent numbers\n",
    "    for num in numbers[1:]:\n",
    "        result -= num\n",
    "\n",
    "    return {\"result\": result}"
   ]
  },
  {
   "cell_type": "code",
   "execution_count": 33,
   "id": "5e57ddfd-3b02-4d3c-b4c2-b6b6571d9366",
   "metadata": {},
   "outputs": [
    {
     "name": "stdout",
     "output_type": "stream",
     "text": [
      "Name: \n",
      " subtract_numbers\n",
      "Description: \n",
      " Extracts numbers from a string, negates the first number, and successively subtracts \n",
      "the remaining numbers in the list.\n",
      "\n",
      "This function is designed to handle input in string format, where numbers are separated \n",
      "by spaces, commas, or other delimiters. It parses the string, extracts valid numeric values, \n",
      "and performs a step-by-step subtraction operation starting with the first number negated.\n",
      "\n",
      "Parameters:\n",
      "- inputs (str): \n",
      "  A string containing numbers to subtract. The string may include spaces, commas, or \n",
      "  other delimiters between the numbers.\n",
      "\n",
      "Returns:\n",
      "- dict: \n",
      "  A dictionary containing the key \"result\" with the calculated difference as its value. \n",
      "  If no valid numbers are found in the input string, the result defaults to 0.\n",
      "\n",
      "Example Input:\n",
      "\"100, 20, 10\"\n",
      "\n",
      "Example Output:\n",
      "{\"result\": -130}\n",
      "\n",
      "Notes:\n",
      "- Non-numeric characters in the input are ignored.\n",
      "- If the input string contains only one valid number, the result will be that number negated.\n",
      "- Handles a variety of delimiters (e.g., spaces, commas) but does not validate input formats \n",
      "  beyond extracting numeric values.\n",
      "Args: \n",
      " {'inputs': {'title': 'Inputs', 'type': 'string'}}\n"
     ]
    }
   ],
   "source": [
    "print(\"Name: \\n\", subtract_numbers.name)\n",
    "print(\"Description: \\n\", subtract_numbers.description) \n",
    "print(\"Args: \\n\", subtract_numbers.args) "
   ]
  },
  {
   "cell_type": "code",
   "execution_count": 34,
   "id": "9b394e0e-a3ce-4682-a858-2d14856a58c8",
   "metadata": {},
   "outputs": [
    {
     "name": "stdout",
     "output_type": "stream",
     "text": [
      "Calling Tool Function:\n",
      "{'result': -60}\n"
     ]
    }
   ],
   "source": [
    "print(\"Calling Tool Function:\")\n",
    "test_input = \"10 20 30 and four a b\" \n",
    "print(subtract_numbers.invoke(test_input))  # Example"
   ]
  },
  {
   "cell_type": "code",
   "execution_count": 35,
   "id": "d299eb61-4aa9-471c-a6f8-47d165fb18c1",
   "metadata": {},
   "outputs": [],
   "source": [
    "# Multiplication Tool\n",
    "@tool\n",
    "def multiply_numbers(inputs: str) -> dict:\n",
    "    \"\"\"\n",
    "    Extracts numbers from a string and calculates their product.\n",
    "\n",
    "    Parameters:\n",
    "    - inputs (str): A string containing numbers separated by spaces, commas, or other delimiters.\n",
    "\n",
    "    Returns:\n",
    "    - dict: A dictionary with the key \"result\" containing the product of the numbers.\n",
    "\n",
    "    Example Input:\n",
    "    \"2, 3, 4\"\n",
    "\n",
    "    Example Output:\n",
    "    {\"result\": 24}\n",
    "\n",
    "    Notes:\n",
    "    - If no numbers are found, the result defaults to 1 (neutral element for multiplication).\n",
    "    \"\"\"\n",
    "    # Extract numbers from the string\n",
    "    numbers = [int(num) for num in inputs.replace(\",\", \"\").split() if num.isdigit()]\n",
    "    print(numbers)\n",
    "\n",
    "    # If no numbers are found, return 1\n",
    "    if not numbers:\n",
    "        return {\"result\": 1}\n",
    "\n",
    "    # Calculate the product of the numbers\n",
    "    result = 1\n",
    "    for num in numbers:\n",
    "        result *= num\n",
    "        print(num)\n",
    "\n",
    "    return {\"result\": result}"
   ]
  },
  {
   "cell_type": "code",
   "execution_count": 36,
   "id": "e6133068-334f-46dd-a6c2-ff6562657c57",
   "metadata": {},
   "outputs": [],
   "source": [
    "# Division Tool\n",
    "@tool\n",
    "def divide_numbers(inputs: str) -> dict:\n",
    "    \"\"\"\n",
    "    Extracts numbers from a string and calculates the result of dividing the first number \n",
    "    by the subsequent numbers in sequence.\n",
    "\n",
    "    Parameters:\n",
    "    - inputs (str): A string containing numbers separated by spaces, commas, or other delimiters.\n",
    "\n",
    "    Returns:\n",
    "    - dict: A dictionary with the key \"result\" containing the quotient.\n",
    "\n",
    "    Example Input:\n",
    "    \"100, 5, 2\"\n",
    "\n",
    "    Example Output:\n",
    "    {\"result\": 10.0}\n",
    "\n",
    "    Notes:\n",
    "    - If no numbers are found, the result defaults to 0.\n",
    "    - Division by zero will raise an error.\n",
    "    \"\"\"\n",
    "    # Extract numbers from the string\n",
    "    numbers = [int(num) for num in inputs.replace(\",\", \"\").split() if num.isdigit()]\n",
    "\n",
    "\n",
    "    # If no numbers are found, return 0\n",
    "    if not numbers:\n",
    "        return {\"result\": 0}\n",
    "\n",
    "    # Calculate the result of dividing the first number by subsequent numbers\n",
    "    result = numbers[0]\n",
    "    for num in numbers[1:]:\n",
    "        result /= num\n",
    "\n",
    "    return {\"result\": result}"
   ]
  },
  {
   "cell_type": "code",
   "execution_count": 37,
   "id": "381c6b76-54ef-4b4f-b6b0-636b41119bb0",
   "metadata": {},
   "outputs": [
    {
     "name": "stdout",
     "output_type": "stream",
     "text": [
      "[2, 3]\n",
      "2\n",
      "3\n",
      "--- Testing MultiplyTool ---\n",
      "Input: 2, 3, and four \n",
      "Output: {'result': 6}\n"
     ]
    }
   ],
   "source": [
    "# Testing multiply_tool\n",
    "multiply_test_input = \"2, 3, and four \"\n",
    "multiply_result = multiply_numbers.invoke(multiply_test_input)\n",
    "print(\"--- Testing MultiplyTool ---\")\n",
    "print(f\"Input: {multiply_test_input}\")\n",
    "print(f\"Output: {multiply_result}\")"
   ]
  },
  {
   "cell_type": "code",
   "execution_count": 38,
   "id": "abbb069c-21a9-45f9-ba45-63d0395f58aa",
   "metadata": {},
   "outputs": [
    {
     "name": "stdout",
     "output_type": "stream",
     "text": [
      "--- Testing DivideTool ---\n",
      "Input: 100, 5, two\n",
      "Output: {'result': 20.0}\n"
     ]
    }
   ],
   "source": [
    "# Testing divide_tool\n",
    "divide_test_input = \"100, 5, two\"\n",
    "divide_result = divide_numbers.invoke(divide_test_input)\n",
    "print(\"--- Testing DivideTool ---\")\n",
    "print(f\"Input: {divide_test_input}\")\n",
    "print(f\"Output: {divide_result}\")"
   ]
  },
  {
   "cell_type": "code",
   "execution_count": 39,
   "id": "835a9eb9-d82b-4cd2-ad57-283846db5b92",
   "metadata": {},
   "outputs": [
    {
     "data": {
      "text/plain": [
       "[StructuredTool(name='add_numbers', description='Adds a list of numbers provided in the input string.\\nParameters:\\n- inputs (str): \\nstring, it should contain numbers that can be extracted and summed.\\nReturns:\\n- dict: A dictionary with a single key \"result\" containing the sum of the numbers.\\nExample Input:\\n\"Add the numbers 10, 20, and 30.\"\\nExample Output:\\n{\"result\": 60}', args_schema=<class 'langchain_core.utils.pydantic.add_numbers'>, func=<function add_numbers at 0x000002139CA95A80>),\n",
       " StructuredTool(name='subtract_numbers', description='Extracts numbers from a string, negates the first number, and successively subtracts \\nthe remaining numbers in the list.\\n\\nThis function is designed to handle input in string format, where numbers are separated \\nby spaces, commas, or other delimiters. It parses the string, extracts valid numeric values, \\nand performs a step-by-step subtraction operation starting with the first number negated.\\n\\nParameters:\\n- inputs (str): \\n  A string containing numbers to subtract. The string may include spaces, commas, or \\n  other delimiters between the numbers.\\n\\nReturns:\\n- dict: \\n  A dictionary containing the key \"result\" with the calculated difference as its value. \\n  If no valid numbers are found in the input string, the result defaults to 0.\\n\\nExample Input:\\n\"100, 20, 10\"\\n\\nExample Output:\\n{\"result\": -130}\\n\\nNotes:\\n- Non-numeric characters in the input are ignored.\\n- If the input string contains only one valid number, the result will be that number negated.\\n- Handles a variety of delimiters (e.g., spaces, commas) but does not validate input formats \\n  beyond extracting numeric values.', args_schema=<class 'langchain_core.utils.pydantic.subtract_numbers'>, func=<function subtract_numbers at 0x000002139E1A98A0>),\n",
       " StructuredTool(name='multiply_numbers', description='Extracts numbers from a string and calculates their product.\\n\\nParameters:\\n- inputs (str): A string containing numbers separated by spaces, commas, or other delimiters.\\n\\nReturns:\\n- dict: A dictionary with the key \"result\" containing the product of the numbers.\\n\\nExample Input:\\n\"2, 3, 4\"\\n\\nExample Output:\\n{\"result\": 24}\\n\\nNotes:\\n- If no numbers are found, the result defaults to 1 (neutral element for multiplication).', args_schema=<class 'langchain_core.utils.pydantic.multiply_numbers'>, func=<function multiply_numbers at 0x000002139E1A8540>),\n",
       " StructuredTool(name='divide_numbers', description='Extracts numbers from a string and calculates the result of dividing the first number \\nby the subsequent numbers in sequence.\\n\\nParameters:\\n- inputs (str): A string containing numbers separated by spaces, commas, or other delimiters.\\n\\nReturns:\\n- dict: A dictionary with the key \"result\" containing the quotient.\\n\\nExample Input:\\n\"100, 5, 2\"\\n\\nExample Output:\\n{\"result\": 10.0}\\n\\nNotes:\\n- If no numbers are found, the result defaults to 0.\\n- Division by zero will raise an error.', args_schema=<class 'langchain_core.utils.pydantic.divide_numbers'>, func=<function divide_numbers at 0x000002139E1A9DA0>)]"
      ]
     },
     "execution_count": 39,
     "metadata": {},
     "output_type": "execute_result"
    }
   ],
   "source": [
    "tools = [add_numbers,subtract_numbers, multiply_numbers, divide_numbers]\n",
    "tools"
   ]
  },
  {
   "cell_type": "code",
   "execution_count": 40,
   "id": "21d7188b-70ff-4b33-ab09-a4f11abd4e30",
   "metadata": {},
   "outputs": [],
   "source": [
    "# Create the agent with all tools\n",
    "math_agent = create_react_agent(\n",
    "    model=llm,\n",
    "    tools=tools,\n",
    "    # Optional: Add a system message to guide the agent's behavior\n",
    "    prompt=\"You are a helpful mathematical assistant that can perform various operations. Use the tools precisely and explain your reasoning clearly.\"\n",
    ")"
   ]
  },
  {
   "cell_type": "code",
   "execution_count": 41,
   "id": "ddcf29ba-ddda-4e34-8731-336d3009b415",
   "metadata": {},
   "outputs": [
    {
     "name": "stdout",
     "output_type": "stream",
     "text": [
      "The result of 25 divided by 4 is 6.25.\n"
     ]
    }
   ],
   "source": [
    "response = math_agent.invoke({\n",
    "    \"messages\": [(\"human\", \"What is 25 divided by 4?\")]\n",
    "})\n",
    "\n",
    "# Get the final answer\n",
    "final_answer = response[\"messages\"][-1].content\n",
    "print(final_answer)"
   ]
  },
  {
   "cell_type": "code",
   "execution_count": 42,
   "id": "76218dcb-dac4-4d3c-b838-355c43b7fb8f",
   "metadata": {},
   "outputs": [
    {
     "name": "stdout",
     "output_type": "stream",
     "text": [
      "{\"result\": -130}\n"
     ]
    }
   ],
   "source": [
    "response_2 = math_agent.invoke({\n",
    "    \"messages\": [(\"human\", \"Subtract 100, 20, and 10.\")]\n",
    "})\n",
    "\n",
    "# Get the final answer\n",
    "final_answer_2 = response_2[\"messages\"][-2].content\n",
    "print(final_answer_2)"
   ]
  },
  {
   "cell_type": "code",
   "execution_count": 43,
   "id": "ebc442f5-de34-4fd2-8bbf-0b809c2a7844",
   "metadata": {},
   "outputs": [
    {
     "name": "stdout",
     "output_type": "stream",
     "text": [
      "\n",
      "--- Testing MultiplyTool ---\n",
      "[2, 3, 4]\n",
      "2\n",
      "3\n",
      "4\n",
      "Agent Response: The result of multiplying 2, 3, and 4 is 24.\n",
      "\n",
      "--- Testing DivideTool ---\n",
      "Agent Response: The result of dividing 100 by 5 and then by 2 is 10.\n"
     ]
    }
   ],
   "source": [
    "print(\"\\n--- Testing MultiplyTool ---\")\n",
    "response = math_agent.invoke({\n",
    "    \"messages\": [(\"human\", \"Multiply 2, 3, and four.\")]\n",
    "})\n",
    "print(\"Agent Response:\", response[\"messages\"][-1].content)\n",
    "\n",
    "print(\"\\n--- Testing DivideTool ---\")\n",
    "response = math_agent.invoke({\n",
    "    \"messages\": [(\"human\", \"Divide 100 by 5 and then by 2.\")]\n",
    "})\n",
    "print(\"Agent Response:\", response[\"messages\"][-1].content)"
   ]
  },
  {
   "cell_type": "code",
   "execution_count": 44,
   "id": "8256a0f0-e585-44bc-8e40-208d3ec1fabe",
   "metadata": {},
   "outputs": [],
   "source": [
    "@tool\n",
    "def new_subtract_numbers(inputs: str) -> dict:\n",
    "    \"\"\"\n",
    "    Extracts numbers from a string and performs subtraction sequentially, starting with the first number.\n",
    "\n",
    "    This function is designed to handle input in string format, where numbers may be separated by spaces, \n",
    "    commas, or other delimiters. It parses the input string, extracts numeric values, and calculates \n",
    "    the result by subtracting each subsequent number from the first. inputs[0]-inputs[1]-inputs[2]\n",
    "\n",
    "    Parameters:\n",
    "    - inputs (str): \n",
    "      A string containing numbers to subtract. The string can include spaces, commas, or other \n",
    "      delimiters between the numbers.\n",
    "\n",
    "    Returns:\n",
    "    - dict: \n",
    "      A dictionary containing the key \"result\" with the calculated difference as its value. \n",
    "      If no valid numbers are found in the input string, the result defaults to 0.\n",
    "\n",
    "    Example Usage:\n",
    "    - Input: \"100, 20, 10\"\n",
    "    - Output: {\"result\": 70}\n",
    "\n",
    "    Limitations:\n",
    "    - The function does not handle cases where numbers are formatted with decimals or other non-integer representations.\n",
    "    \"\"\"\n",
    "    # Extract numbers from the string\n",
    "    numbers = [int(num) for num in inputs.replace(\",\", \"\").split() if num.isdigit()]\n",
    "\n",
    "    # If no numbers are found, return 0\n",
    "    if not numbers:\n",
    "        return {\"result\": 0}\n",
    "\n",
    "    # Start with the first number\n",
    "    result = numbers[0]\n",
    "\n",
    "    # Subtract all subsequent numbers\n",
    "    for num in numbers[1:]:\n",
    "        result -= num\n",
    "\n",
    "    return {\"result\": result}"
   ]
  },
  {
   "cell_type": "code",
   "execution_count": 45,
   "id": "5ce26cfb-8ebc-4eb4-a2d7-0ed6a7628ffa",
   "metadata": {},
   "outputs": [
    {
     "name": "stdout",
     "output_type": "stream",
     "text": [
      "agent <langgraph.graph.state.CompiledStateGraph object at 0x000002139E181A90>\n"
     ]
    }
   ],
   "source": [
    "tools_updated = [add_numbers, new_subtract_numbers, multiply_numbers, divide_numbers]\n",
    "# Create the agent with all tools\n",
    "math_agent_new = create_react_agent(\n",
    "    model=llm,\n",
    "    tools=tools_updated,\n",
    "    # Optional: Add a system message to guide the agent's behavior\n",
    "    prompt=\"You are a helpful mathematical assistant that can perform various operations. Use the tools precisely and explain your reasoning clearly.\"\n",
    ")\n",
    "print(\"agent\",math_agent_new)"
   ]
  },
  {
   "cell_type": "code",
   "execution_count": 46,
   "id": "3ea9e91c-4897-4380-bd30-5f36027690a3",
   "metadata": {},
   "outputs": [],
   "source": [
    "# Test Cases\n",
    "test_cases = [\n",
    "    {\n",
    "        \"query\": \"Subtract 100, 20, and 10.\",\n",
    "        \"expected\": {\"result\": 70},\n",
    "        \"description\": \"Testing subtraction tool with sequential subtraction.\"\n",
    "    },\n",
    "    {\n",
    "        \"query\": \"Multiply 2, 3, and 4.\",\n",
    "        \"expected\": {\"result\": 24},\n",
    "        \"description\": \"Testing multiplication tool for a list of numbers.\"\n",
    "    },\n",
    "    {\n",
    "        \"query\": \"Divide 100 by 5 and then by 2.\",\n",
    "        \"expected\": {\"result\": 10.0},\n",
    "        \"description\": \"Testing division tool with sequential division.\"\n",
    "    },\n",
    "    {\n",
    "        \"query\": \"Subtract 50 from 20.\",\n",
    "        \"expected\": {\"result\": -30},\n",
    "        \"description\": \"Testing subtraction tool with negative results.\"\n",
    "    }\n",
    "\n",
    "]"
   ]
  },
  {
   "cell_type": "code",
   "execution_count": 48,
   "id": "843ddd02-2975-4851-b149-c9fe21ddad29",
   "metadata": {},
   "outputs": [
    {
     "name": "stdout",
     "output_type": "stream",
     "text": [
      "\n",
      "--- Test Case 1: Testing subtraction tool with sequential subtraction. ---\n",
      "Query: Subtract 100, 20, and 10.\n",
      "Tool Result: 70\n",
      "Expected Result: 70\n",
      "✅ Test Passed: Testing subtraction tool with sequential subtraction.\n",
      "\n",
      "--- Test Case 2: Testing multiplication tool for a list of numbers. ---\n",
      "Query: Multiply 2, 3, and 4.\n",
      "[2, 3, 4]\n",
      "2\n",
      "3\n",
      "4\n",
      "Tool Result: 24\n",
      "Expected Result: 24\n",
      "✅ Test Passed: Testing multiplication tool for a list of numbers.\n",
      "\n",
      "--- Test Case 3: Testing division tool with sequential division. ---\n",
      "Query: Divide 100 by 5 and then by 2.\n",
      "Tool Result: 10.0\n",
      "Expected Result: 10.0\n",
      "✅ Test Passed: Testing division tool with sequential division.\n",
      "\n",
      "--- Test Case 4: Testing subtraction tool with negative results. ---\n",
      "Query: Subtract 50 from 20.\n",
      "Tool Result: -30\n",
      "Expected Result: -30\n",
      "✅ Test Passed: Testing subtraction tool with negative results.\n",
      "\n",
      "Correctly passed tests: ['Testing subtraction tool with sequential subtraction.', 'Testing multiplication tool for a list of numbers.', 'Testing division tool with sequential division.', 'Testing subtraction tool with negative results.']\n"
     ]
    }
   ],
   "source": [
    "correct_tasks = []\n",
    "# Corrected test execution\n",
    "for index, test in enumerate(test_cases, start=1):\n",
    "    query = test[\"query\"]\n",
    "    expected_result = test[\"expected\"][\"result\"]  # Extract just the value\n",
    "    \n",
    "    print(f\"\\n--- Test Case {index}: {test['description']} ---\")\n",
    "    print(f\"Query: {query}\")\n",
    "    \n",
    "    # Properly format the input\n",
    "    response = math_agent_new.invoke({\"messages\": [(\"human\", query)]})\n",
    "    \n",
    "    # Find the tool message in the response\n",
    "    tool_message = None\n",
    "    for msg in response[\"messages\"]:\n",
    "        if hasattr(msg, 'name') and msg.name in ['add_numbers', 'new_subtract_numbers', 'multiply_numbers', 'divide_numbers']:\n",
    "            tool_message = msg\n",
    "            break\n",
    "    \n",
    "    if tool_message:\n",
    "        # Parse the tool result from its content\n",
    "        import json\n",
    "        tool_result = json.loads(tool_message.content)[\"result\"]\n",
    "        print(f\"Tool Result: {tool_result}\")\n",
    "        print(f\"Expected Result: {expected_result}\")\n",
    "        \n",
    "        if tool_result == expected_result:\n",
    "            print(f\"✅ Test Passed: {test['description']}\")\n",
    "            correct_tasks.append(test[\"description\"])\n",
    "        else:\n",
    "            print(f\"❌ Test Failed: {test['description']}\")\n",
    "    else:\n",
    "        print(\"❌ No tool was called by the agent\")\n",
    "\n",
    "print(\"\\nCorrectly passed tests:\", correct_tasks)"
   ]
  },
  {
   "cell_type": "code",
   "execution_count": 73,
   "id": "20688b65-19a5-41e7-b34c-410939459d99",
   "metadata": {},
   "outputs": [],
   "source": [
    "\n",
    "@tool\n",
    "def search_wikipedia(query: str) -> str:\n",
    "    \"\"\"Search Wikipedia for factual information about a topic.\n",
    "    \n",
    "    Parameters:\n",
    "    - query (str): The topic or question to search for on Wikipedia\n",
    "    \n",
    "    Returns:\n",
    "    - str: A summary of relevant information from Wikipedia\n",
    "    \"\"\"\n",
    "    wiki = WikipediaAPIWrapper()\n",
    "    return wiki.run(query)"
   ]
  },
  {
   "cell_type": "code",
   "execution_count": 78,
   "id": "61cb5db1-966e-4a32-8675-b7257e1197fe",
   "metadata": {},
   "outputs": [
    {
     "name": "stdout",
     "output_type": "stream",
     "text": [
      "Tool calling\n",
      "A key principle of tool calling is that the model decides when to use a tool based on the input's relevance. The model doesn't always need to call a tool. For ...\n",
      "https://python.langchain.com/docs/concepts/tool_calling/\n",
      "\n",
      "---\n",
      "What Is Tool Calling? | IBM\n",
      "Tool calling refers to the ability of artificial intelligence (AI) models to interact with external tools, application programming interfaces (APIs) or systems ...\n",
      "https://www.ibm.com/think/topics/tool-calling\n",
      "\n",
      "---\n",
      "Function calling - OpenAI API\n",
      "Tool calling is a multi-step conversation between your application and a model via the OpenAI API. The tool calling flow has five high level steps: Make a ...\n",
      "https://platform.openai.com/docs/guides/function-calling\n",
      "\n"
     ]
    }
   ],
   "source": [
    "from serpapi import GoogleSearch\n",
    "\n",
    "# Set your API key\n",
    "API_KEY = \"serp-api-key"\n",
    "\n",
    "def search_google(query: str, num_results=3) -> str:\n",
    "    \"\"\"Search Google via SerpAPI and return top results.\"\"\"\n",
    "    search = GoogleSearch({\n",
    "        \"q\": query,\n",
    "        \"api_key\": API_KEY,\n",
    "        \"num\": num_results\n",
    "    })\n",
    "    results = search.get_dict()\n",
    "    snippets = []\n",
    "\n",
    "    for r in results.get(\"organic_results\", []):\n",
    "        title = r.get(\"title\")\n",
    "        link = r.get(\"link\")\n",
    "        snippet = r.get(\"snippet\", \"\")\n",
    "        snippets.append(f\"{title}\\n{snippet}\\n{link}\\n\")\n",
    "\n",
    "    if not snippets:\n",
    "        return \"No results found.\"\n",
    "    \n",
    "    return \"\\n---\\n\".join(snippets)\n",
    "\n",
    "# Example usage\n",
    "print(search_google(\"tool calling\"))\n"
   ]
  },
  {
   "cell_type": "code",
   "execution_count": 81,
   "id": "8435dab4-bd53-4037-82b0-736a917922c9",
   "metadata": {},
   "outputs": [],
   "source": [
    "@tool\n",
    "def search_google_tool(query: str) -> str:\n",
    "    \"\"\"\n",
    "    Search Google using SerpAPI and return top results as snippets.\n",
    "    \n",
    "    Parameters:\n",
    "    - query (str): The search query\n",
    "    \n",
    "    Returns:\n",
    "    - str: Top search result snippets\n",
    "    \"\"\"\n",
    "    return search_google(query)"
   ]
  },
  {
   "cell_type": "code",
   "execution_count": 83,
   "id": "4b5ab530-9269-4903-ab94-ae561b0447f0",
   "metadata": {},
   "outputs": [
    {
     "data": {
      "text/plain": [
       "'LangChain\\nThe platform for reliable agents. Tools for every step of the agent development lifecycle -- built to unlock powerful AI in production.\\nhttps://www.langchain.com/\\n\\n---\\nWhat is LangChain?\\nLangChain is an open source framework for building applications based on large language models (LLMs). LLMs are large deep-learning models pre-trained on large ...\\nhttps://aws.amazon.com/what-is/langchain/\\n'"
      ]
     },
     "execution_count": 83,
     "metadata": {},
     "output_type": "execute_result"
    }
   ],
   "source": [
    "search_google_tool.invoke(\"what is langchain\")\n"
   ]
  },
  {
   "cell_type": "code",
   "execution_count": 86,
   "id": "3afe4bd7-61f7-4875-91d3-cba3d86970e6",
   "metadata": {},
   "outputs": [],
   "source": [
    "# Update your tools list to include the Wikipedia tool\n",
    "tools_updated = [add_numbers, new_subtract_numbers, multiply_numbers, divide_numbers, search_google_tool]\n",
    "\n",
    "# Create the agent with all tools including Wikipedia\n",
    "math_agent_updated = create_react_agent(\n",
    "    model=llm,\n",
    "    tools=tools_updated,\n",
    "    prompt=\"You are a helpful assistant that can perform various mathematical operations and look up information. Use the tools precisely and explain your reasoning clearly.\"\n",
    ")"
   ]
  },
  {
   "cell_type": "code",
   "execution_count": 88,
   "id": "8d301869-e7e0-4740-a405-2201efb175e8",
   "metadata": {},
   "outputs": [
    {
     "name": "stdout",
     "output_type": "stream",
     "text": [
      "[40170986]\n",
      "40170986\n",
      "\n",
      "Message sequence:\n",
      "\n",
      "--- Message 1 ---\n",
      "Type: HumanMessage\n",
      "Content: What is the current population of Canada? Multiply it by 0.75\n",
      "Name: None\n",
      "\n",
      "--- Message 2 ---\n",
      "Type: AIMessage\n",
      "Content: \n",
      "Name: None\n",
      "Tool calls: [{'name': 'search_google_tool', 'args': {'query': 'current population of Canada'}, 'id': '4b8b1ace-6816-41bc-add3-66fd2a0fb69d', 'type': 'tool_call'}]\n",
      "\n",
      "--- Message 3 ---\n",
      "Type: ToolMessage\n",
      "Content: Canada Population (2025)\n",
      "The current population of Canada is 40,170,986 as of Thursday, August 14, 2025, based on Worldometer's elaboration of the latest United Nations data1. ; Canada ...\n",
      "https://www.worldometers.info/world-population/canada-population/\n",
      "\n",
      "---\n",
      "Population of Canada\n",
      "The 2021 Canadian census counted a total population of 36,991,981, an increase of around 5.2 per cent over the 2016 figure. Between 1990 and 2008, the ...\n",
      "https://en.wikipedia.org/wiki/Population_of_Canada\n",
      "\n",
      "---\n",
      "Canada's population clock (real-time model)\n",
      "The population clock is intended to serve as an educational tool to inform Canadians on the pace of population growth across the country.\n",
      "https://www150.statcan.gc.ca/n1/pub/71-607-x/71-607-x2018005-eng.htm\n",
      "\n",
      "Name: search_google_tool\n",
      "\n",
      "--- Message 4 ---\n",
      "Type: AIMessage\n",
      "Content: Based on the search results, the current population of Canada is approximately 40,170,986 as of August 14, 2025.\n",
      "\n",
      "Now, let's multiply that number by 0.75:\n",
      "Name: None\n",
      "Tool calls: [{'name': 'multiply_numbers', 'args': {'inputs': '40170986, 0.75'}, 'id': '46e8b9b4-3034-43b2-ac30-57762a1db54a', 'type': 'tool_call'}]\n",
      "\n",
      "--- Message 5 ---\n",
      "Type: ToolMessage\n",
      "Content: {\"result\": 40170986}\n",
      "Name: multiply_numbers\n",
      "\n",
      "--- Message 6 ---\n",
      "Type: AIMessage\n",
      "Content: The current population of Canada is approximately 40,170,986. Multiplying this by 0.75 gives us 30,128,239.5.\n",
      "Name: None\n"
     ]
    }
   ],
   "source": [
    "query = \"What is the current population of Canada? Multiply it by 0.75\"\n",
    "\n",
    "response = math_agent_updated.invoke({\"messages\": [(\"human\", query)]})\n",
    "\n",
    "print(\"\\nMessage sequence:\")\n",
    "for i, msg in enumerate(response[\"messages\"]):\n",
    "    print(f\"\\n--- Message {i+1} ---\")\n",
    "    print(f\"Type: {type(msg).__name__}\")\n",
    "    if hasattr(msg, 'content'):\n",
    "        print(f\"Content: {msg.content}\")\n",
    "    if hasattr(msg, 'name'):\n",
    "        print(f\"Name: {msg.name}\")\n",
    "    if hasattr(msg, 'tool_calls') and msg.tool_calls:\n",
    "        print(f\"Tool calls: {msg.tool_calls}\")"
   ]
  },
  {
   "cell_type": "code",
   "execution_count": null,
   "id": "c7f75b87-7032-4ef4-868c-f6cba9753e01",
   "metadata": {},
   "outputs": [],
   "source": []
  }
 ],
 "metadata": {
  "kernelspec": {
   "display_name": "Python 3 (ipykernel)",
   "language": "python",
   "name": "python3"
  },
  "language_info": {
   "codemirror_mode": {
    "name": "ipython",
    "version": 3
   },
   "file_extension": ".py",
   "mimetype": "text/x-python",
   "name": "python",
   "nbconvert_exporter": "python",
   "pygments_lexer": "ipython3",
   "version": "3.13.5"
  }
 },
 "nbformat": 4,
 "nbformat_minor": 5
}
